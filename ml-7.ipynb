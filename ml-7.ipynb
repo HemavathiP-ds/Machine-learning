{
 "cells": [
  {
   "cell_type": "code",
   "execution_count": 20,
   "id": "298647c5-b409-443d-bd39-bb4ab546f70a",
   "metadata": {},
   "outputs": [],
   "source": [
    "#write a program to showcase a basic probablistics models in machine learning.\n",
    "import numpy as np\n",
    "from sklearn.model_selection import train_test_split\n",
    "from sklearn.naive_bayes import GaussianNB\n",
    "from sklearn.datasets import load_iris\n",
    "from sklearn.metrics import accuracy_score"
   ]
  },
  {
   "cell_type": "code",
   "execution_count": 22,
   "id": "144dce26-4d65-4495-b2cf-7e8e96f3c218",
   "metadata": {},
   "outputs": [
    {
     "name": "stdout",
     "output_type": "stream",
     "text": [
      "first five data variable= [[5.1 3.5 1.4 0.2]\n",
      " [4.9 3.  1.4 0.2]\n",
      " [4.7 3.2 1.3 0.2]\n",
      " [4.6 3.1 1.5 0.2]\n",
      " [5.  3.6 1.4 0.2]]\n",
      "first five target variable= [0 0 0 0 0]\n"
     ]
    }
   ],
   "source": [
    "iris=load_iris()\n",
    "x=iris.data\n",
    "y=iris.target\n",
    "print(\"first five data variable=\",x[:5])\n",
    "print('first five target variable=',y[:5])\n",
    "\n",
    "\n"
   ]
  },
  {
   "cell_type": "code",
   "execution_count": 29,
   "id": "324f3fb8-fea1-4795-829c-7e32ee919c7a",
   "metadata": {},
   "outputs": [
    {
     "name": "stdout",
     "output_type": "stream",
     "text": [
      "model accuracy=97.78%\n",
      "predicted class of sample:versicolor\n"
     ]
    }
   ],
   "source": [
    "x_train,x_test,y_train,y_test=train_test_split(x,y,test_size=0.3,random_state=42)\n",
    "model=GaussianNB()\n",
    "model.fit(x_train,y_train)\n",
    "y_pred=model.predict(x_test)\n",
    "accuracy=accuracy_score(y_test,y_pred)\n",
    "\n",
    "print(f\"model accuracy={accuracy*100:.2f}%\")\n",
    "\n",
    "sample=x_test[0].reshape(1,-1)\n",
    "predicted_class=model.predict(sample)\n",
    "\n",
    "print(f\"predicted class of sample:{iris.target_names[predicted_class][0]}\")\n",
    "\n",
    "\n"
   ]
  },
  {
   "cell_type": "code",
   "execution_count": null,
   "id": "302d4e8a-70af-4cdc-9b82-92700d5eb5d3",
   "metadata": {},
   "outputs": [],
   "source": []
  }
 ],
 "metadata": {
  "kernelspec": {
   "display_name": "Python 3 (ipykernel)",
   "language": "python",
   "name": "python3"
  },
  "language_info": {
   "codemirror_mode": {
    "name": "ipython",
    "version": 3
   },
   "file_extension": ".py",
   "mimetype": "text/x-python",
   "name": "python",
   "nbconvert_exporter": "python",
   "pygments_lexer": "ipython3",
   "version": "3.11.7"
  }
 },
 "nbformat": 4,
 "nbformat_minor": 5
}
