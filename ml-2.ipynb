{
 "cells": [
  {
   "cell_type": "code",
   "execution_count": 3,
   "id": "944e540e-1bb8-4151-a45a-02f17c7ead25",
   "metadata": {},
   "outputs": [
    {
     "data": {
      "text/html": [
       "<div>\n",
       "<style scoped>\n",
       "    .dataframe tbody tr th:only-of-type {\n",
       "        vertical-align: middle;\n",
       "    }\n",
       "\n",
       "    .dataframe tbody tr th {\n",
       "        vertical-align: top;\n",
       "    }\n",
       "\n",
       "    .dataframe thead th {\n",
       "        text-align: right;\n",
       "    }\n",
       "</style>\n",
       "<table border=\"1\" class=\"dataframe\">\n",
       "  <thead>\n",
       "    <tr style=\"text-align: right;\">\n",
       "      <th></th>\n",
       "      <th>Example</th>\n",
       "      <th>color</th>\n",
       "      <th>toughness</th>\n",
       "      <th>fungus</th>\n",
       "      <th>Appearance</th>\n",
       "      <th>Poisonous</th>\n",
       "    </tr>\n",
       "  </thead>\n",
       "  <tbody>\n",
       "    <tr>\n",
       "      <th>0</th>\n",
       "      <td>1</td>\n",
       "      <td>green</td>\n",
       "      <td>hard</td>\n",
       "      <td>no</td>\n",
       "      <td>wrinkled</td>\n",
       "      <td>yes</td>\n",
       "    </tr>\n",
       "    <tr>\n",
       "      <th>1</th>\n",
       "      <td>2</td>\n",
       "      <td>green</td>\n",
       "      <td>hard</td>\n",
       "      <td>yes</td>\n",
       "      <td>smooth</td>\n",
       "      <td>no</td>\n",
       "    </tr>\n",
       "    <tr>\n",
       "      <th>2</th>\n",
       "      <td>3</td>\n",
       "      <td>brown</td>\n",
       "      <td>soft</td>\n",
       "      <td>no</td>\n",
       "      <td>wrinkled</td>\n",
       "      <td>no</td>\n",
       "    </tr>\n",
       "    <tr>\n",
       "      <th>3</th>\n",
       "      <td>4</td>\n",
       "      <td>orange</td>\n",
       "      <td>hard</td>\n",
       "      <td>no</td>\n",
       "      <td>wrinkled</td>\n",
       "      <td>yes</td>\n",
       "    </tr>\n",
       "    <tr>\n",
       "      <th>4</th>\n",
       "      <td>5</td>\n",
       "      <td>green</td>\n",
       "      <td>hard</td>\n",
       "      <td>no</td>\n",
       "      <td>wrinkled</td>\n",
       "      <td>yes</td>\n",
       "    </tr>\n",
       "  </tbody>\n",
       "</table>\n",
       "</div>"
      ],
      "text/plain": [
       "   Example    color toughness fungus Appearance Poisonous\n",
       "0         1   green      hard     no   wrinkled       yes\n",
       "1         2   green      hard    yes     smooth        no\n",
       "2         3   brown      soft     no   wrinkled        no\n",
       "3         4  orange      hard     no   wrinkled       yes\n",
       "4         5   green      hard     no   wrinkled       yes"
      ]
     },
     "execution_count": 3,
     "metadata": {},
     "output_type": "execute_result"
    }
   ],
   "source": [
    "#Write a program in python to show how a concept learning mechanism is formed.\n",
    "import pandas as pd\n",
    "\n",
    "df=pd.read_csv(r\"C:\\Users\\Admin\\Desktop\\Datasets\\hypo.csv\")\n",
    "df.head()"
   ]
  },
  {
   "cell_type": "code",
   "execution_count": 4,
   "id": "757488c1-310e-454f-80be-8455059c6b35",
   "metadata": {},
   "outputs": [
    {
     "name": "stdout",
     "output_type": "stream",
     "text": [
      "[[1, 'green', 'hard', 'no', 'wrinkled', 'yes'], [2, 'green', 'hard', 'yes', 'smooth', 'no'], [3, 'brown', 'soft', 'no', 'wrinkled', 'no'], [4, 'orange', 'hard', 'no', 'wrinkled', 'yes'], [5, 'green', 'hard', 'no', 'wrinkled', 'yes'], [6, 'green', 'hard', 'yes', 'wrinkled', 'no'], [7, 'orange', 'hard', 'no', 'wrinkled', 'no'], [8, 'green', 'hard', 'no', 'wrinkled', 'yes'], [9, 'green', 'hard', 'no', 'wrinkled', 'yes'], [10, 'orange', 'hard', 'no', 'amooth', 'no']]\n"
     ]
    }
   ],
   "source": [
    "datatest=df.values.tolist() #converting the dataframe in terms of list\n",
    "print(datatest)"
   ]
  },
  {
   "cell_type": "code",
   "execution_count": null,
   "id": "d313be16-7cb7-482d-9f58-d1afae5106c4",
   "metadata": {},
   "outputs": [],
   "source": []
  },
  {
   "cell_type": "code",
   "execution_count": 5,
   "id": "47705120-6e2d-42f3-b50f-b01f89a6881f",
   "metadata": {},
   "outputs": [
    {
     "name": "stdout",
     "output_type": "stream",
     "text": [
      "10\n"
     ]
    }
   ],
   "source": [
    "rows=len(datatest) #calculating the number of rows\n",
    "print(rows)"
   ]
  },
  {
   "cell_type": "code",
   "execution_count": 6,
   "id": "5c92f20c-678a-48cb-a626-dcb8a113ff69",
   "metadata": {},
   "outputs": [
    {
     "name": "stdout",
     "output_type": "stream",
     "text": [
      "5\n"
     ]
    }
   ],
   "source": [
    "columns=len(datatest[0])-1 #calculating the number of columns\n",
    "print(columns)"
   ]
  },
  {
   "cell_type": "code",
   "execution_count": 7,
   "id": "027e9d35-f9d9-45f4-be5a-8aaab3a3f4b9",
   "metadata": {},
   "outputs": [
    {
     "name": "stdout",
     "output_type": "stream",
     "text": [
      "['phi', 'phi', 'phi', 'phi', 'phi']\n"
     ]
    }
   ],
   "source": [
    "h=['phi']*columns #Initialize the h to the most specific hypothesis \n",
    "print(h)\n"
   ]
  },
  {
   "cell_type": "code",
   "execution_count": 8,
   "id": "b65bda30-1522-4807-ab7b-11c1c08cd363",
   "metadata": {},
   "outputs": [
    {
     "name": "stdout",
     "output_type": "stream",
     "text": [
      "Final hypthesis: ['?', '?', 'hard', 'no', 'wrinkled']\n"
     ]
    }
   ],
   "source": [
    "for i in range(0,columns):\n",
    "    h[i]=datatest[0][i]\n",
    "    for i in range(0,rows):\n",
    "        if datatest[i][columns]=='yes':\n",
    "            for j in range(0,columns):\n",
    "                if h[j]!=datatest[i][j]:\n",
    "                    h[j]=\"?\"\n",
    "                else:\n",
    "                    h[j]=datatest[i][j]\n",
    "print('Final hypthesis:',h)                    \n",
    "                    \n",
    "    \n",
    "            "
   ]
  },
  {
   "cell_type": "code",
   "execution_count": null,
   "id": "cc97a6db-b51b-40ce-8177-3217ad3591e0",
   "metadata": {},
   "outputs": [],
   "source": []
  },
  {
   "cell_type": "code",
   "execution_count": null,
   "id": "89e5ed9b-3b79-425f-a594-887ef660c6d3",
   "metadata": {},
   "outputs": [],
   "source": []
  }
 ],
 "metadata": {
  "kernelspec": {
   "display_name": "Python 3 (ipykernel)",
   "language": "python",
   "name": "python3"
  },
  "language_info": {
   "codemirror_mode": {
    "name": "ipython",
    "version": 3
   },
   "file_extension": ".py",
   "mimetype": "text/x-python",
   "name": "python",
   "nbconvert_exporter": "python",
   "pygments_lexer": "ipython3",
   "version": "3.11.7"
  }
 },
 "nbformat": 4,
 "nbformat_minor": 5
}
