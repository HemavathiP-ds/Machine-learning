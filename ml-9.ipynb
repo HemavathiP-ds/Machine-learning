{
 "cells": [
  {
   "cell_type": "code",
   "execution_count": 5,
   "id": "0e1ed2be-7c8a-4a54-9e8e-0ff47523380d",
   "metadata": {},
   "outputs": [
    {
     "name": "stdout",
     "output_type": "stream",
     "text": [
      "random_forest Accuracy: 0.85\n",
      "knn Accuracy: 0.80\n",
      "Stacking Classifier Accuracy: 0.85\n"
     ]
    }
   ],
   "source": [
    "# Write a program in python to implement ensemble learning(choose any models of your choice).\n",
    "import pandas as pd\n",
    "from sklearn.model_selection import train_test_split\n",
    "from sklearn.ensemble import RandomForestClassifier, StackingClassifier\n",
    "from sklearn.neighbors import KNeighborsClassifier\n",
    "from sklearn.linear_model import LogisticRegression\n",
    "from sklearn.metrics import accuracy_score\n",
    "\n",
    "# Load dataset from Excel file\n",
    "df = pd.read_excel(r'C:\\Users\\Admin\\Downloads\\ensemble_learning_dataset.xlsx')\n",
    "\n",
    "# Separate features and target\n",
    "X = df.drop('target', axis=1)\n",
    "y = df['target']\n",
    "\n",
    "# Split the dataset into training and testing sets\n",
    "X_train, X_test, y_train, y_test = train_test_split(X, y, test_size=0.3, random_state=42)\n",
    "\n",
    "# Define base models\n",
    "base_estimators = [\n",
    "    ('random_forest', RandomForestClassifier(n_estimators=50, random_state=42)),\n",
    "    ('knn', KNeighborsClassifier(n_neighbors=5))\n",
    "]\n",
    "\n",
    "# Print predictions of base estimators\n",
    "for name, model in base_estimators:\n",
    "    model.fit(X_train, y_train)\n",
    "    y_pred = model.predict(X_test)\n",
    "    accuracy = accuracy_score(y_test, y_pred)\n",
    "    print(f\"{name} Accuracy: {accuracy:.2f}\")\n",
    "\n",
    "# Define the StackingClassifier with Logistic Regression as the final estimator\n",
    "stacking_clf = StackingClassifier(estimators=base_estimators, final_estimator=LogisticRegression())\n",
    "\n",
    "# Train the StackingClassifier\n",
    "stacking_clf.fit(X_train, y_train)\n",
    "\n",
    "# Make predictions with the stacking classifier\n",
    "y_pred = stacking_clf.predict(X_test)\n",
    "\n",
    "# Evaluate the stacking classifier\n",
    "accuracy = accuracy_score(y_test, y_pred)\n",
    "print(f\"Stacking Classifier Accuracy: {accuracy:.2f}\")\n"
   ]
  },
  {
   "cell_type": "code",
   "execution_count": null,
   "id": "02ffc760-27bb-4428-ac37-934cccc31e07",
   "metadata": {},
   "outputs": [],
   "source": []
  }
 ],
 "metadata": {
  "kernelspec": {
   "display_name": "Python 3 (ipykernel)",
   "language": "python",
   "name": "python3"
  },
  "language_info": {
   "codemirror_mode": {
    "name": "ipython",
    "version": 3
   },
   "file_extension": ".py",
   "mimetype": "text/x-python",
   "name": "python",
   "nbconvert_exporter": "python",
   "pygments_lexer": "ipython3",
   "version": "3.11.7"
  }
 },
 "nbformat": 4,
 "nbformat_minor": 5
}
