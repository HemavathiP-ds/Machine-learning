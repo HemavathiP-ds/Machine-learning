{
 "cells": [
  {
   "cell_type": "code",
   "execution_count": 1,
   "id": "fdff9362-1c89-4d93-9a9b-24858f9f4383",
   "metadata": {},
   "outputs": [
    {
     "name": "stdout",
     "output_type": "stream",
     "text": [
      "Classification Example:\n",
      "Classification Accuracy: 0.86\n",
      "\n",
      "Regression Example:\n",
      "Regression Mean Squared Error: 56.34\n"
     ]
    }
   ],
   "source": [
    "#write a program in python to showcase how classification and regressionworks(using any dataset of your choice or pregenerate the data in the program.)\n",
    "import numpy as np\n",
    "import pandas as pd\n",
    "from sklearn.datasets import make_classification, make_regression\n",
    "from sklearn.ensemble import RandomForestClassifier, RandomForestRegressor\n",
    "from sklearn.model_selection import train_test_split\n",
    "from sklearn.metrics import accuracy_score, mean_squared_error\n",
    "\n",
    "# Function to demonstrate classification\n",
    "def classification_example():\n",
    "    # Generate a synthetic classification dataset\n",
    "    X_class, y_class = make_classification(n_samples=1000, n_features=20, n_informative=2, n_redundant=2, random_state=42)\n",
    "    \n",
    "    # Split the dataset into training and testing sets\n",
    "    X_train_class, X_test_class, y_train_class, y_test_class = train_test_split(X_class, y_class, test_size=0.3, random_state=42)\n",
    "    \n",
    "    # Train a RandomForestClassifier\n",
    "    clf = RandomForestClassifier(n_estimators=100, random_state=42)\n",
    "    clf.fit(X_train_class, y_train_class)\n",
    "    \n",
    "    # Make predictions\n",
    "    y_pred_class = clf.predict(X_test_class)\n",
    "    \n",
    "    # Evaluate the classifier\n",
    "    accuracy = accuracy_score(y_test_class, y_pred_class)\n",
    "    print(f\"Classification Accuracy: {accuracy:.2f}\")\n",
    "\n",
    "# Function to demonstrate regression\n",
    "def regression_example():\n",
    "    # Generate a synthetic regression dataset\n",
    "    X_reg, y_reg = make_regression(n_samples=1000, n_features=20, n_informative=2, noise=0.1, random_state=42)\n",
    "    \n",
    "    # Split the dataset into training and testing sets\n",
    "    X_train_reg, X_test_reg, y_train_reg, y_test_reg = train_test_split(X_reg, y_reg, test_size=0.3, random_state=42)\n",
    "    \n",
    "    # Train a RandomForestRegressor\n",
    "    reg = RandomForestRegressor(n_estimators=100, random_state=42)\n",
    "    reg.fit(X_train_reg, y_train_reg)\n",
    "    \n",
    "    # Make predictions\n",
    "    y_pred_reg = reg.predict(X_test_reg)\n",
    "    \n",
    "    # Evaluate the regressor\n",
    "    mse = mean_squared_error(y_test_reg, y_pred_reg)\n",
    "    print(f\"Regression Mean Squared Error: {mse:.2f}\")\n",
    "\n",
    "# Main function to run the examples\n",
    "if __name__ == \"__main__\":\n",
    "    print(\"Classification Example:\")\n",
    "    classification_example()\n",
    "    \n",
    "    print(\"\\nRegression Example:\")\n",
    "    regression_example()\n"
   ]
  },
  {
   "cell_type": "code",
   "execution_count": null,
   "id": "4d42c04e-6ce6-4aba-94a7-3a7cdaa8dd25",
   "metadata": {},
   "outputs": [],
   "source": []
  }
 ],
 "metadata": {
  "kernelspec": {
   "display_name": "Python 3 (ipykernel)",
   "language": "python",
   "name": "python3"
  },
  "language_info": {
   "codemirror_mode": {
    "name": "ipython",
    "version": 3
   },
   "file_extension": ".py",
   "mimetype": "text/x-python",
   "name": "python",
   "nbconvert_exporter": "python",
   "pygments_lexer": "ipython3",
   "version": "3.11.7"
  }
 },
 "nbformat": 4,
 "nbformat_minor": 5
}
