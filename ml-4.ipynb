{
 "cells": [
  {
   "cell_type": "code",
   "execution_count": 2,
   "id": "0dd58982-e465-44a4-b9a1-e7968f0e1a87",
   "metadata": {},
   "outputs": [
    {
     "name": "stdout",
     "output_type": "stream",
     "text": [
      "Accuracy: 99.40%\n"
     ]
    }
   ],
   "source": [
    "#Using python write a program to showcase how logistics regression works without using any libraries.\n",
    "import numpy as np\n",
    "\n",
    "\n",
    "def sigmoid(z):\n",
    "    return 1 / (1 + np.exp(-z))\n",
    "\n",
    "\n",
    "class LogisticRegression:\n",
    "    def __init__(self, learning_rate=0.01, iterations=1000):\n",
    "        self.learning_rate = learning_rate\n",
    "        self.iterations = iterations\n",
    "        self.weights = None\n",
    "        self.bias = None\n",
    "\n",
    "    def fit(self, X, y):\n",
    "        num_samples, num_features = X.shape\n",
    "        self.weights = np.zeros(num_features)\n",
    "        self.bias = 0\n",
    "\n",
    "        \n",
    "        for _ in range(self.iterations):\n",
    "            linear_model = np.dot(X, self.weights) + self.bias\n",
    "            y_predicted = sigmoid(linear_model)\n",
    "\n",
    "            # Calculate gradients\n",
    "            dw = (1 / num_samples) * np.dot(X.T, (y_predicted - y))\n",
    "            db = (1 / num_samples) * np.sum(y_predicted - y)\n",
    "\n",
    "            \n",
    "            self.weights -= self.learning_rate * dw\n",
    "            self.bias -= self.learning_rate * db\n",
    "\n",
    "    def predict(self, X):\n",
    "        linear_model = np.dot(X, self.weights) + self.bias\n",
    "        y_predicted = sigmoid(linear_model)\n",
    "        return [1 if i > 0.5 else 0 for i in y_predicted]\n",
    "\n",
    "#Generate Synthetic Data\n",
    "def generate_data(num_samples=1000, num_features=2):\n",
    "    np.random.seed(42)  # For reproducibility\n",
    "    X = np.random.randn(num_samples, num_features)\n",
    "    y = (X[:, 0] + X[:, 1] > 0).astype(int)  # Labels based on a linear decision boundary\n",
    "    return X, y\n",
    "\n",
    "# Generate synthetic data\n",
    "X, y = generate_data(num_samples=1000, num_features=2)\n",
    "\n",
    "# Create an instance of the model\n",
    "model = LogisticRegression(learning_rate=0.1, iterations=1000)\n",
    "\n",
    "\n",
    "model.fit(X, y)\n",
    "\n",
    "def accuracy(y_true, y_pred):\n",
    "    return np.mean(y_true == y_pred)\n",
    "\n",
    "# Make predictions on the training data\n",
    "predictions = model.predict(X)\n",
    "\n",
    "# Calculate the accuracy\n",
    "acc = accuracy(y, predictions)\n",
    "print(f'Accuracy: {acc * 100:.2f}%')\n"
   ]
  },
  {
   "cell_type": "code",
   "execution_count": null,
   "id": "87e09666-40cf-4bfb-bd5d-502fd25a9fa3",
   "metadata": {},
   "outputs": [],
   "source": []
  }
 ],
 "metadata": {
  "kernelspec": {
   "display_name": "Python 3 (ipykernel)",
   "language": "python",
   "name": "python3"
  },
  "language_info": {
   "codemirror_mode": {
    "name": "ipython",
    "version": 3
   },
   "file_extension": ".py",
   "mimetype": "text/x-python",
   "name": "python",
   "nbconvert_exporter": "python",
   "pygments_lexer": "ipython3",
   "version": "3.11.7"
  }
 },
 "nbformat": 4,
 "nbformat_minor": 5
}
