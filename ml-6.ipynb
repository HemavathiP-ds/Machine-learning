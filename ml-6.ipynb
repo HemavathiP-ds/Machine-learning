{
 "cells": [
  {
   "cell_type": "code",
   "execution_count": 2,
   "id": "9d16bee7-6a8e-4405-9555-f44a83fe10c3",
   "metadata": {},
   "outputs": [
    {
     "name": "stdout",
     "output_type": "stream",
     "text": [
      "[0 1 0 1 0 0 1 0 0 1 0 1 0 0 0 1 0 1 1 0 1 0 1 0 0 1 0 1 1 0 1 0 1 1 0 1 0\n",
      " 0 1 0 1 1 0 1 0 0 1 1 1 0 0 0 0 1 1 1 1 0 0 0 1 1 0 0 0 1 0 1 0 0 1 1 1 1\n",
      " 0 0 0 1 1 0 0 0 0 1 1 0 1 1 0 0 1 0 0 0 0 0 0 1 0 0 1 0 1 1 0 0 0 1 0 1 1\n",
      " 1 1 0 0 1 1 0 0 1 0 1 1 1 0 1 1 0 1 0 0 0 1 0 1 0 0 0 1 0 0 1 0 0 1 0 1 1\n",
      " 1 1 0 0 1 1 0 1 1 1 1 1 1 1 0 0 1 1 0 0 1 1 0 0 0 1 0 1 0 1 1 1 1 1 0 0 1\n",
      " 1 0 1 1 0 1 0 1 1 1 1 0 0 0 1 0 0 0 1 1 0 0 1 0 1 1 0 0 0 1 1 0 0 0 0 0 0\n",
      " 0 1 0 1 0 1 0 0 1 0 1 0 0 0 0 1 1 0 1 0 0 1 1 0 1 0 1 1]\n",
      "Accuracy: 0.82\n",
      "Precision: 0.8333333333333334\n",
      "Recall: 0.8\n",
      "F1-Score: 0.816326530612245\n",
      "Confusion Matrix:\n",
      "[[105  20]\n",
      " [ 25 100]]\n",
      "Classification Report:\n",
      "              precision    recall  f1-score   support\n",
      "\n",
      "           0       0.81      0.84      0.82       125\n",
      "           1       0.83      0.80      0.82       125\n",
      "\n",
      "    accuracy                           0.82       250\n",
      "   macro avg       0.82      0.82      0.82       250\n",
      "weighted avg       0.82      0.82      0.82       250\n",
      "\n"
     ]
    }
   ],
   "source": [
    "#Write a program in python to implement multilayer preceptron using any library /packages of your choice.\n",
    "from sklearn.neural_network import MLPClassifier\n",
    "from sklearn.datasets import make_classification\n",
    "from sklearn.model_selection import train_test_split\n",
    "\n",
    "# Generate a random dataset for demonstration\n",
    "X, y = make_classification(n_samples=1000, random_state=1)\n",
    "\n",
    "# Split data into training and testing sets\n",
    "X_train, X_test, y_train, y_test = train_test_split(X, y, stratify=y, random_state=1)\n",
    "\n",
    "# Create an MLP classifier\n",
    "mlp = MLPClassifier(random_state=1, max_iter=1000).fit(X_train, y_train)\n",
    "\n",
    "# Predict on the test set\n",
    "predictions = mlp.predict(X_test) # Store the predictions in a variable\n",
    "\n",
    "print(predictions)\n",
    "\n",
    "from sklearn.metrics import accuracy_score, precision_score, recall_score, f1_score, confusion_matrix, classification_report\n",
    "\n",
    "# Assuming you have 'predictions' and 'y_test' from the previous code\n",
    "\n",
    "# Accuracy\n",
    "accuracy = accuracy_score(y_test, predictions)\n",
    "print(f\"Accuracy: {accuracy}\")\n",
    "\n",
    "# Precision\n",
    "precision = precision_score(y_test, predictions)\n",
    "print(f\"Precision: {precision}\")\n",
    "\n",
    "# Recall\n",
    "recall = recall_score(y_test, predictions)\n",
    "print(f\"Recall: {recall}\")\n",
    "\n",
    "# F1-Score\n",
    "f1 = f1_score(y_test, predictions)\n",
    "print(f\"F1-Score: {f1}\")\n",
    "\n",
    "# Confusion Matrix\n",
    "conf_matrix = confusion_matrix(y_test, predictions)\n",
    "print(\"Confusion Matrix:\")\n",
    "print(conf_matrix)\n",
    "\n",
    "# Classification Report\n",
    "class_report = classification_report(y_test, predictions)\n",
    "print(\"Classification Report:\")\n",
    "print(class_report)\n"
   ]
  },
  {
   "cell_type": "code",
   "execution_count": null,
   "id": "53d1618f-1319-4406-9c82-782093cbd6b6",
   "metadata": {},
   "outputs": [],
   "source": []
  }
 ],
 "metadata": {
  "kernelspec": {
   "display_name": "Python 3 (ipykernel)",
   "language": "python",
   "name": "python3"
  },
  "language_info": {
   "codemirror_mode": {
    "name": "ipython",
    "version": 3
   },
   "file_extension": ".py",
   "mimetype": "text/x-python",
   "name": "python",
   "nbconvert_exporter": "python",
   "pygments_lexer": "ipython3",
   "version": "3.11.7"
  }
 },
 "nbformat": 4,
 "nbformat_minor": 5
}
